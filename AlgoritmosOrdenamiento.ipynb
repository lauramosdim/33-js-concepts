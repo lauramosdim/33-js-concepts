{
  "nbformat": 4,
  "nbformat_minor": 0,
  "metadata": {
    "colab": {
      "provenance": [],
      "toc_visible": true,
      "authorship_tag": "ABX9TyNAXcsL2gL4FkoKtWY8FdQB",
      "include_colab_link": true
    },
    "kernelspec": {
      "name": "python3",
      "display_name": "Python 3"
    },
    "language_info": {
      "name": "python"
    }
  },
  "cells": [
    {
      "cell_type": "markdown",
      "metadata": {
        "id": "view-in-github",
        "colab_type": "text"
      },
      "source": [
        "<a href=\"https://colab.research.google.com/github/lauramosdim/33-js-concepts/blob/master/AlgoritmosOrdenamiento.ipynb\" target=\"_parent\"><img src=\"https://colab.research.google.com/assets/colab-badge.svg\" alt=\"Open In Colab\"/></a>"
      ]
    },
    {
      "cell_type": "markdown",
      "source": [
        "# Algoritmos de ordenamiento\n",
        "\n"
      ],
      "metadata": {
        "id": "7agMdCQ4eDRR"
      }
    },
    {
      "cell_type": "markdown",
      "source": [
        "## Ordenamiento por Inserción"
      ],
      "metadata": {
        "id": "_wyhmWWUeV0w"
      }
    },
    {
      "cell_type": "code",
      "execution_count": 5,
      "metadata": {
        "colab": {
          "base_uri": "https://localhost:8080/"
        },
        "id": "1aeIWSq1dz9l",
        "outputId": "f0ac9036-1586-4ed8-9781-3fafafd8a470"
      },
      "outputs": [
        {
          "output_type": "stream",
          "name": "stdout",
          "text": [
            "8\n",
            "[1, 2, 3, 3, 4, 5, 9, 10]\n"
          ]
        }
      ],
      "source": [
        "x=[10,1,4,3,2,9,5,3]\n",
        "print(len(x))\n",
        "for i in range (0,len(x)): #en python los arreglos empiezan en la posición cero\n",
        " j=i\n",
        " while j>0 and x[j-1]>x[j]:\n",
        "  x[j-1],x[j]=x[j],x[j-1] #x[j-1],x[j]=1,10\n",
        "  j -= 1\n",
        "print(x)"
      ]
    },
    {
      "cell_type": "markdown",
      "source": [
        "## Ordenamiento por Selección"
      ],
      "metadata": {
        "id": "qo-fCwAgiG3v"
      }
    },
    {
      "cell_type": "code",
      "source": [
        "x=[10,1,4,3,2,9,5,3]\n",
        "for i in range (0,len(x)): #i=0\n",
        "  min_indice,min_valor=i,x[i] #  min_indice=0 min_valor=10\n",
        "  for j in range(i,len(x)): #j=0 / j=1 /j=2\n",
        "    if x[j]<min_valor: #x[j]=10, min_valor=10 10 no es menor que 10 / x[j]=1 , min_valor=10 1<10 entra la if/ x[j]=4, min_valor=1 /\n",
        "      min_indice,min_valor=j,x[j] # min_indice=1 ,min_valor=1\n",
        "  x[i],x[min_indice]=min_valor,x[i]\n",
        "print(x)\n"
      ],
      "metadata": {
        "colab": {
          "base_uri": "https://localhost:8080/"
        },
        "id": "aWEo8iMUiLsp",
        "outputId": "f2ac3472-4e58-49a2-afca-10a8f6556503"
      },
      "execution_count": 6,
      "outputs": [
        {
          "output_type": "stream",
          "name": "stdout",
          "text": [
            "[1, 2, 3, 3, 4, 5, 9, 10]\n"
          ]
        }
      ]
    },
    {
      "cell_type": "markdown",
      "source": [
        "## Ordenamiento Burbuja"
      ],
      "metadata": {
        "id": "GZoNM-e1mQ2h"
      }
    },
    {
      "cell_type": "code",
      "source": [
        "x=[10,1,4,3,2,9,5,3]\n",
        "while True:\n",
        "  Intercambio=False #Controlar el recorrido del algoritmo\n",
        "  for i in range (1,len(x)):\n",
        "    if x[i-1]>x[i]:\n",
        "      x[i-1],x[i]= x[i],x[i-1]\n",
        "      Intercambio=True\n",
        "  if not Intercambio:\n",
        "      break\n",
        "print(x)"
      ],
      "metadata": {
        "colab": {
          "base_uri": "https://localhost:8080/"
        },
        "id": "4PC5ENR7mUSd",
        "outputId": "8b206cfb-e3af-4afb-d6db-6d6c30af0a5f"
      },
      "execution_count": 9,
      "outputs": [
        {
          "output_type": "stream",
          "name": "stdout",
          "text": [
            "[1, 2, 3, 3, 4, 5, 9, 10]\n"
          ]
        }
      ]
    },
    {
      "cell_type": "markdown",
      "source": [
        "## Ordenamiento por Casilleros"
      ],
      "metadata": {
        "id": "aV6ZFT1dwg5T"
      }
    },
    {
      "cell_type": "code",
      "source": [
        "def seleccion(arreglo):\n",
        "  for i in range (0,len(arreglo)): #i=0\n",
        "    min_indice,min_valor=i,arreglo[i] #  min_indice=0 min_valor=10\n",
        "    for j in range(i,len(arreglo)): #j=0 / j=1 /j=2\n",
        "      if arreglo[j]<min_valor: #x[j]=10, min_valor=10 10 no es menor que 10 / x[j]=1 , min_valor=10 1<10 entra la if/ x[j]=4, min_valor=1 /\n",
        "        min_indice,min_valor=j,arreglo[j] # min_indice=1 ,min_valor=1\n",
        "    arreglo[i],arreglo[min_indice]=min_valor,arreglo[i]\n",
        "  x_nuevo=arreglo\n",
        "  return x_nuevo\n"
      ],
      "metadata": {
        "id": "bJdkxtTQwlOd"
      },
      "execution_count": 5,
      "outputs": []
    },
    {
      "cell_type": "code",
      "source": [
        "x=[10,1,4,3,2,9,5,3]\n",
        "seleccion(x)"
      ],
      "metadata": {
        "colab": {
          "base_uri": "https://localhost:8080/"
        },
        "id": "K1CNrmLMymc_",
        "outputId": "630893f8-d875-4a17-b639-5b576e3064ec"
      },
      "execution_count": 6,
      "outputs": [
        {
          "output_type": "execute_result",
          "data": {
            "text/plain": [
              "[1, 2, 3, 3, 4, 5, 9, 10]"
            ]
          },
          "metadata": {},
          "execution_count": 6
        }
      ]
    },
    {
      "cell_type": "code",
      "source": [
        "x=[0.25,0.51,0.49,0.98,0.14,0.98,0.78,0.48,0.52, 0.79]\n",
        "m=15 #tamaño casillero\n",
        "casillero=[[] for _ in range(m)]\n",
        "\n",
        "for n,j in enumerate(x): #j muestra el valor de la lista y n la posición donde está el valor de la lista\n",
        "    clave=int(m*x[n])\n",
        "    casillero[clave].append(j) #por ejemplo coje 0,25 j y lo pone en un casillero Adiciona el valor de x en el casilelro\n",
        "\n",
        "for i in range (0,m):\n",
        "  casillero[i]=seleccion(casillero[i])\n",
        "\n",
        "k=0 #k es una ble para extraer los vres del casillero\n",
        "x_ordenado=[] #mostrar la lista final\n",
        "\n",
        "for i in range(0,m):\n",
        "  s=len(casillero[i])\n",
        "  for r in range(0,s):\n",
        "    x_ordenado.append(casillero[i][r])\n",
        "print(x_ordenado)\n",
        "\n"
      ],
      "metadata": {
        "colab": {
          "base_uri": "https://localhost:8080/"
        },
        "id": "q_9POaECy3Oy",
        "outputId": "d7a2d442-384f-4f20-e5d6-ca01cf8794d1"
      },
      "execution_count": 14,
      "outputs": [
        {
          "output_type": "stream",
          "name": "stdout",
          "text": [
            "[0.14, 0.25, 0.48, 0.49, 0.51, 0.52, 0.78, 0.79, 0.98, 0.98]\n"
          ]
        }
      ]
    },
    {
      "cell_type": "code",
      "source": [
        "m=15\n",
        "casillero1=[0]*m\n",
        "print(casillero1)\n",
        "casillero2=[[]]*m\n",
        "print(casillero2)\n",
        "\n"
      ],
      "metadata": {
        "colab": {
          "base_uri": "https://localhost:8080/"
        },
        "id": "JDCINS7m4k4c",
        "outputId": "cc449e49-729a-4e75-d131-57c640e22825"
      },
      "execution_count": 23,
      "outputs": [
        {
          "output_type": "stream",
          "name": "stdout",
          "text": [
            "[0, 0, 0, 0, 0, 0, 0, 0, 0, 0, 0, 0, 0, 0, 0]\n",
            "[[], [], [], [], [], [], [], [], [], [], [], [], [], [], []]\n"
          ]
        }
      ]
    },
    {
      "cell_type": "code",
      "source": [
        "def AlgCasillero(x,m):\n",
        "  casillero=[[] for _ in range(m)] #el guión bajo significa para no usar una variable, lo que hace es omitir que vamos a usar a una vble que va a variar\n",
        "\n",
        "  for n,j in enumerate(x): #j muestra el valor de la lista y n la posición donde está el valor de la lista\n",
        "      clave=int(m*x[n])\n",
        "      casillero[clave].append(j) #por ejemplo coje 0,25 j y lo pone en un casillero Adiciona el valor de x en el casilelro\n",
        "\n",
        "  for i in range (0,m):\n",
        "    casillero[i]=seleccion(casillero[i])\n",
        "\n",
        "  x_ordenado=[] #mostrar la lista final\n",
        "\n",
        "  for i in range(0,m):\n",
        "    s=len(casillero[i])\n",
        "    for r in range(0,s):\n",
        "      x_ordenado.append(casillero[i][r])\n",
        "  return x_ordenado"
      ],
      "metadata": {
        "id": "M-8mi37r3c2-"
      },
      "execution_count": 18,
      "outputs": []
    },
    {
      "cell_type": "code",
      "source": [
        "x=[0.25,0.51,0.49,0.98,0.14,0.98,0.78,0.48,0.52, 0.79]\n",
        "AlgCasillero(x,15)"
      ],
      "metadata": {
        "colab": {
          "base_uri": "https://localhost:8080/"
        },
        "id": "6VK6qKqr3uKH",
        "outputId": "3cbd03e7-bca2-41f2-c33f-3813750fd8fe"
      },
      "execution_count": 19,
      "outputs": [
        {
          "output_type": "execute_result",
          "data": {
            "text/plain": [
              "[0.14, 0.25, 0.48, 0.49, 0.51, 0.52, 0.78, 0.79, 0.98, 0.98]"
            ]
          },
          "metadata": {},
          "execution_count": 19
        }
      ]
    },
    {
      "cell_type": "markdown",
      "source": [
        "## Algorítmo Conteo Original"
      ],
      "metadata": {
        "id": "YDVGh_zbA6j-"
      }
    },
    {
      "cell_type": "markdown",
      "source": [
        "solo funciona para valores entre 0 y 9"
      ],
      "metadata": {
        "id": "JCdk8FN7E6Eh"
      }
    },
    {
      "cell_type": "code",
      "source": [
        "x=[1,8,9,7,5,2] #los valores debe ser entre 0 y 9\n",
        "resultado=[0]*len(x)\n",
        "conteo=[0]*10\n",
        "\n",
        "for i in range(0,len(x)):\n",
        "  conteo[x[i]]+=1 #conteo[x[i]]= conteo[x[i]]+1 conteo inicial\n",
        "\n",
        "for j in range(1,10):\n",
        "  conteo[j]+=conteo[j-1] #conteo[j]= conteo[j]]+conteo[j-1] contyeo acumulado\n",
        "\n",
        "k=len(x)-1\n",
        "while k >=0:\n",
        "  resultado[conteo[x[k]]-1]=x[k] #uso el conteo acumulado\n",
        "  conteo[x[k]]-=1\n",
        "  k-=1\n",
        "resultado\n",
        "\n",
        "for i in range(0,len(x)):\n",
        "  x[i]=resultado[i]\n",
        "\n",
        "print(x)\n"
      ],
      "metadata": {
        "colab": {
          "base_uri": "https://localhost:8080/"
        },
        "id": "2gN9KVbqAxoc",
        "outputId": "bcbf4726-6ce0-4e84-967e-4a532401573e"
      },
      "execution_count": 31,
      "outputs": [
        {
          "output_type": "stream",
          "name": "stdout",
          "text": [
            "[1, 2, 5, 7, 8, 9]\n"
          ]
        }
      ]
    },
    {
      "cell_type": "markdown",
      "source": [
        "Algoritmo por ordenamiento Radix"
      ],
      "metadata": {
        "id": "LCBbJ83Fylm6"
      }
    },
    {
      "cell_type": "code",
      "source": [
        "def ConteorOrdenRadix(x,pos): #pos es recorrer las unidades,decenas,centenas\n",
        "  resultado=[0]*len(x)\n",
        "  conteo=[0]*10\n",
        "\n",
        "  for i in range(0,len(x)):\n",
        "    indice=x[i]//pos\n",
        "    conteo[indice%10]+=1 # %es la operación aritmetica modular\n",
        "\n",
        "  for j in range(1,10):\n",
        "      conteo[j]+=conteo[j-1]\n",
        "\n",
        "  k=len(x)-1\n",
        "  while k>=0:\n",
        "    indice=x[k]//pos\n",
        "    resultado[conteo[indice%10]-1]=x[k]\n",
        "    conteo[indice%10]-=1\n",
        "    k-=1\n",
        "\n",
        "  for i in range (0,len(x)):\n",
        "    x[i]=resultado[i]\n",
        "\n",
        "  return x\n",
        "\n",
        "\n"
      ],
      "metadata": {
        "id": "dUTDh0kUFuZT"
      },
      "execution_count": 32,
      "outputs": []
    },
    {
      "cell_type": "markdown",
      "source": [
        "## Algoritmo por ordenamiento Radix"
      ],
      "metadata": {
        "id": "JRcVK0R-I26C"
      }
    },
    {
      "cell_type": "code",
      "source": [
        "x=[58,98,77,79,47,52,41,102]\n",
        "x_max=max(x)\n",
        "pos=1\n",
        "\n",
        "while(x_max//pos)>0:\n",
        "  ConteorOrdenRadix(x,pos)\n",
        "  pos*=10 #pos=10*pos\n",
        "\n",
        "print(x)"
      ],
      "metadata": {
        "colab": {
          "base_uri": "https://localhost:8080/"
        },
        "id": "nfSjcziSIIdO",
        "outputId": "f23ecb23-21f2-4253-9819-5a6c86b70b3b"
      },
      "execution_count": 33,
      "outputs": [
        {
          "output_type": "stream",
          "name": "stdout",
          "text": [
            "[41, 47, 52, 58, 77, 79, 98, 102]\n"
          ]
        }
      ]
    },
    {
      "cell_type": "markdown",
      "source": [],
      "metadata": {
        "id": "un54cBO2Jjb5"
      }
    }
  ]
}